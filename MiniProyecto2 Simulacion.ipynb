{
 "cells": [
  {
   "cell_type": "markdown",
   "metadata": {},
   "source": [
    "# Proyecto Simulación\n",
    "\n",
    "## Alejandro Tejada 17584\n",
    "## Diego Sevilla 17238\n",
    "## Proyecto Simulación 2\n",
    "## Curso: Simulación \n",
    "## Fecha: 09/2020"
   ]
  },
  {
   "cell_type": "markdown",
   "metadata": {},
   "source": [
    "# Inciso 1\n",
    "Suponiendo que es simple generar variables aleatorias con función de probabilidad acumulada Fi(x) para i de 1 a n, tenemos V (variable aleatoria) con función de probabilidad acumulada: \n",
    "\n",
    "* Describaun algoritmo para generar V\n",
    "* Demuestre que el algoritmo genera adecuadamente V"
   ]
  },
  {
   "cell_type": "code",
   "execution_count": 25,
   "metadata": {},
   "outputs": [
    {
     "data": {
      "text/plain": [
       "(array([23.,  0.,  0., 27.,  0.,  0.,  0., 29.,  0., 21.]),\n",
       " array([0.2 , 0.28, 0.36, 0.44, 0.52, 0.6 , 0.68, 0.76, 0.84, 0.92, 1.  ]),\n",
       " <a list of 10 Patch objects>)"
      ]
     },
     "execution_count": 25,
     "metadata": {},
     "output_type": "execute_result"
    },
    {
     "data": {
      "image/png": "[encoded data removed]",
      "text/plain": [
       "<Figure size 432x288 with 1 Axes>"
      ]
     },
     "metadata": {},
     "output_type": "display_data"
    }
   ],
   "source": [
    "####################################################################\n",
    "# Alejandro Tejada 17584\n",
    "# Diego Sevilla 17238\n",
    "####################################################################\n",
    "# Curso: Modelación y Simulación\n",
    "# Programa: proyecto.py\n",
    "# Propósito: Programa para mini proyecto\n",
    "# Fecha: 09/2020\n",
    "####################################################################\n",
    "# %%\n",
    "import numpy as np\n",
    "import math\n",
    "import random\n",
    "import matplotlib.pyplot as plt\n",
    "\n",
    "\n",
    "def pseudo(a, m):\n",
    "    def inner_pseudo(xo, n):\n",
    "        items = list(range(n))\n",
    "        items[0] = xo\n",
    "\n",
    "        for i in range(1, n):\n",
    "            items[i] = (a*items[i-1]) % m\n",
    "\n",
    "        return [i/float(m) for i in items]\n",
    "    return inner_pseudo\n",
    "\n",
    "# Agregamos algunas funciones\n",
    "Func = {\n",
    "    0.2: lambda x: x/2,\n",
    "    0.5: lambda x: x**2,\n",
    "    0.8: lambda x: x**3,\n",
    "    1: lambda x: x/16\n",
    "}\n",
    "\n",
    "# se crean los pseudos\n",
    "mi_pseudo = pseudo(m=2**31-1, a=7**5)\n",
    "# se crean mis randoms\n",
    "mis_randoms = mi_pseudo(xo=5, n=1)\n",
    "plt.style.use('seaborn-white')\n",
    "\n",
    "data = np.random.randn(1000)\n",
    "#lt.hist(data);\n",
    "# Keys\n",
    "ArrayP = [0]\n",
    "NewArray=[]\n",
    "ArrayP += list(Func.keys())\n",
    "for x in range(0, 100):\n",
    "    num = random.random()\n",
    "    for i in range(0, len(ArrayP)-1):\n",
    "        if(ArrayP[i] <= num < ArrayP[i+1]):\n",
    "            #rint(ArrayP[i+1])\n",
    "            NewArray.append(ArrayP[i+1])\n",
    "            #rint(ArrayP[i+1])\n",
    "\n",
    "#for m in NewArray:\n",
    "#    print(m)\n",
    "plt.grid(axis='y', alpha=0.75)\n",
    "plt.xlabel('Probabilidad')\n",
    "plt.ylabel('Conteo')\n",
    "plt.title('Inciso 1')\n",
    "plt.hist(NewArray)\n"
   ]
  },
  {
   "cell_type": "markdown",
   "metadata": {},
   "source": [
    "# Inciso 2\n",
    "\n",
    "Escriba un programa tal que, dada una función de masa de probabilidad (pi, para i de 1 a n), proporcione como salida el valor de una variable aleatoria con esta función de masa. Haga un histograma para alguna distribución de ejemplo."
   ]
  },
  {
   "cell_type": "code",
   "execution_count": 33,
   "metadata": {},
   "outputs": [
    {
     "data": {
      "text/plain": [
       "(array([207.,   0.,   0., 306.,   0.,   0.,   0.,   0., 394.,  93.]),\n",
       " array([0.2 , 0.28, 0.36, 0.44, 0.52, 0.6 , 0.68, 0.76, 0.84, 0.92, 1.  ]),\n",
       " <a list of 10 Patch objects>)"
      ]
     },
     "execution_count": 33,
     "metadata": {},
     "output_type": "execute_result"
    },
    {
     "data": {
      "image/png": "[encoded data removed]",
      "text/plain": [
       "<Figure size 432x288 with 1 Axes>"
      ]
     },
     "metadata": {},
     "output_type": "display_data"
    }
   ],
   "source": [
    "####################################################################\n",
    "# Alejandro Tejada 17584\n",
    "# Diego Sevilla 17238\n",
    "####################################################################\n",
    "# Curso: Modelación y Simulación\n",
    "# Programa: pruebas.py\n",
    "# Propósito: Programa para mini proyecto\n",
    "# Fecha: 09/2020\n",
    "####################################################################\n",
    "# %%\n",
    "import numpy as np\n",
    "import math\n",
    "import random\n",
    "import matplotlib.pyplot as plt\n",
    "\n",
    "\n",
    "def pseudo(a, m):\n",
    "    def inner_pseudo(xo, n):\n",
    "        items = list(range(n))\n",
    "        items[0] = xo\n",
    "\n",
    "        for i in range(1, n):\n",
    "            items[i] = (a*items[i-1]) % m\n",
    "\n",
    "        return [i/float(m) for i in items]\n",
    "    return inner_pseudo\n",
    "\n",
    "# DISTRIBUCION DE EJEMPLO\n",
    "Func = {\n",
    "    0.2: lambda x: \"EVENTOA\",\n",
    "    0.5: lambda x: \"EVENTOB\",\n",
    "    0.9: lambda x: \"EVENTOC\",\n",
    "    1: lambda x: \"EVENTOD\"\n",
    "}\n",
    "\n",
    "# se crean los pseudos\n",
    "mi_pseudo = pseudo(m=2**31-1, a=7**5)\n",
    "# se crean mis randoms\n",
    "mis_randoms = mi_pseudo(xo=5, n=1)\n",
    "data = np.random.randn(1000)\n",
    "#lt.hist(data);\n",
    "# Keys\n",
    "ArrayP = [0]\n",
    "NewArray=[]\n",
    "ArrayP += list(Func.keys())\n",
    "for x in range(0, 1000):\n",
    "    num = random.random()\n",
    "    for i in range(0, len(ArrayP)-1):\n",
    "        if(ArrayP[i] <= num < ArrayP[i+1]):\n",
    "            #rint(ArrayP[i+1])\n",
    "            NewArray.append(ArrayP[i+1])\n",
    "            #rint(ArrayP[i+1])\n",
    "\n",
    "#for m in NewArray:\n",
    "#    print(m)\n",
    "plt.grid(axis='y', alpha=0.75)\n",
    "plt.xlabel('Probabilidad de eventos')\n",
    "plt.ylabel('Conteo de Eventos')\n",
    "plt.title('Inciso 1')\n",
    "plt.hist(NewArray, color='#2BB218')"
   ]
  }
 ],
 "metadata": {
  "kernelspec": {
   "display_name": "Python 3",
   "language": "python",
   "name": "python3"
  },
  "language_info": {
   "codemirror_mode": {
    "name": "ipython",
    "version": 3
   },
   "file_extension": ".py",
   "mimetype": "text/x-python",
   "name": "python",
   "nbconvert_exporter": "python",
   "pygments_lexer": "ipython3",
   "version": "3.8.1"
  }
 },
 "nbformat": 4,
 "nbformat_minor": 4
}

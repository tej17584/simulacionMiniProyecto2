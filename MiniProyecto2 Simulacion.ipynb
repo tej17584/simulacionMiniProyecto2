{
 "cells": [
  {
   "cell_type": "markdown",
   "metadata": {},
   "source": [
    "# Proyecto Simulación\n",
    "\n",
    "## Alejandro Tejada 17584\n",
    "## Diego Sevilla 17238\n",
    "## Proyecto Simulación 2\n",
    "## Curso: Simulación \n",
    "## Fecha: 09/2020"
   ]
  },
  {
   "cell_type": "markdown",
   "metadata": {},
   "source": [
    "# Inciso 1: Funcion acumulada ponderada\n",
    "Suponiendo que es simple generar variables aleatorias con función de probabilidad acumulada Fi(x) para i de 1 a n, tenemos V (variable aleatoria) con función de probabilidad acumulada: \n",
    "\n",
    "* Describaun algoritmo para generar V\n",
    "* Demuestre que el algoritmo genera adecuadamente V"
   ]
  },
  {
   "cell_type": "code",
   "execution_count": 3,
   "metadata": {},
   "outputs": [
    {
     "data": {
      "text/plain": [
       "(array([18.,  0.,  0., 34.,  0.,  0.,  0., 25.,  0., 23.]),\n",
       " array([0.2 , 0.28, 0.36, 0.44, 0.52, 0.6 , 0.68, 0.76, 0.84, 0.92, 1.  ]),\n",
       " <BarContainer object of 10 artists>)"
      ]
     },
     "execution_count": 3,
     "metadata": {},
     "output_type": "execute_result"
    },
    {
     "data": {
      "image/png": "[encoded data removed]",
      "text/plain": [
       "<Figure size 432x288 with 1 Axes>"
      ]
     },
     "metadata": {},
     "output_type": "display_data"
    }
   ],
   "source": [
    "####################################################################\n",
    "# Alejandro Tejada 17584\n",
    "# Diego Sevilla 17238\n",
    "####################################################################\n",
    "# Curso: Modelación y Simulación\n",
    "# Programa: proyecto.py\n",
    "# Propósito: Programa para mini proyecto\n",
    "# Fecha: 09/2020\n",
    "####################################################################\n",
    "# %%\n",
    "import numpy as np\n",
    "import math\n",
    "import random\n",
    "import matplotlib.pyplot as plt\n",
    "\n",
    "\n",
    "def pseudo(a, m):\n",
    "    def inner_pseudo(xo, n):\n",
    "        items = list(range(n))\n",
    "        items[0] = xo\n",
    "\n",
    "        for i in range(1, n):\n",
    "            items[i] = (a*items[i-1]) % m\n",
    "\n",
    "        return [i/float(m) for i in items]\n",
    "    return inner_pseudo\n",
    "\n",
    "# Agregamos algunas funciones\n",
    "Func = {\n",
    "    0.2: lambda x: x/2,\n",
    "    0.5: lambda x: x**2,\n",
    "    0.8: lambda x: x**3,\n",
    "    1: lambda x: x/16\n",
    "}\n",
    "\n",
    "# se crean los pseudos\n",
    "mi_pseudo = pseudo(m=2**31-1, a=7**5)\n",
    "# se crean mis randoms\n",
    "mis_randoms = mi_pseudo(xo=5, n=1)\n",
    "plt.style.use('seaborn-white')\n",
    "\n",
    "data = np.random.randn(1000)\n",
    "#lt.hist(data);\n",
    "# Keys\n",
    "ArrayP = [0]\n",
    "NewArray=[]\n",
    "ArrayP += list(Func.keys())\n",
    "for x in range(0, 100):\n",
    "    num = random.random()\n",
    "    for i in range(0, len(ArrayP)-1):\n",
    "        if(ArrayP[i] <= num < ArrayP[i+1]):\n",
    "            #rint(ArrayP[i+1])\n",
    "            NewArray.append(ArrayP[i+1])\n",
    "            #rint(ArrayP[i+1])\n",
    "\n",
    "#for m in NewArray:\n",
    "#    print(m)\n",
    "plt.grid(axis='y', alpha=0.75)\n",
    "plt.xlabel('Probabilidad')\n",
    "plt.ylabel('Conteo')\n",
    "plt.title('Inciso 1')\n",
    "plt.hist(NewArray)\n"
   ]
  },
  {
   "cell_type": "markdown",
   "metadata": {},
   "source": [
    "# Inciso 2: Funcion acumulada ponderada\n",
    "\n",
    "Escriba un programa tal que, dada una función de masa de probabilidad (pi, para i de 1 a n), proporcione como salida el valor de una variable aleatoria con esta función de masa. Haga un histograma para alguna distribución de ejemplo."
   ]
  },
  {
   "cell_type": "code",
   "execution_count": 2,
   "metadata": {},
   "outputs": [
    {
     "data": {
      "text/plain": [
       "(array([220.,   0.,   0., 285.,   0.,   0.,   0.,   0., 391., 104.]),\n",
       " array([0.2 , 0.28, 0.36, 0.44, 0.52, 0.6 , 0.68, 0.76, 0.84, 0.92, 1.  ]),\n",
       " <BarContainer object of 10 artists>)"
      ]
     },
     "execution_count": 2,
     "metadata": {},
     "output_type": "execute_result"
    },
    {
     "data": {
      "image/png": "[encoded data removed]",
      "text/plain": [
       "<Figure size 432x288 with 1 Axes>"
      ]
     },
     "metadata": {},
     "output_type": "display_data"
    }
   ],
   "source": [
    "####################################################################\n",
    "# Alejandro Tejada 17584\n",
    "# Diego Sevilla 17238\n",
    "####################################################################\n",
    "# Curso: Modelación y Simulación\n",
    "# Programa: pruebas.py\n",
    "# Propósito: Programa para mini proyecto\n",
    "# Fecha: 09/2020\n",
    "####################################################################\n",
    "# %%\n",
    "import numpy as np\n",
    "import math\n",
    "import random\n",
    "import matplotlib.pyplot as plt\n",
    "\n",
    "\n",
    "def pseudo(a, m):\n",
    "    def inner_pseudo(xo, n):\n",
    "        items = list(range(n))\n",
    "        items[0] = xo\n",
    "\n",
    "        for i in range(1, n):\n",
    "            items[i] = (a*items[i-1]) % m\n",
    "\n",
    "        return [i/float(m) for i in items]\n",
    "    return inner_pseudo\n",
    "\n",
    "# DISTRIBUCION DE EJEMPLO\n",
    "Func = {\n",
    "    0.2: lambda x: \"EVENTOA\",\n",
    "    0.5: lambda x: \"EVENTOB\",\n",
    "    0.9: lambda x: \"EVENTOC\",\n",
    "    1: lambda x: \"EVENTOD\"\n",
    "}\n",
    "\n",
    "# se crean los pseudos\n",
    "mi_pseudo = pseudo(m=2**31-1, a=7**5)\n",
    "# se crean mis randoms\n",
    "mis_randoms = mi_pseudo(xo=5, n=1)\n",
    "data = np.random.randn(1000)\n",
    "#lt.hist(data);\n",
    "# Keys\n",
    "ArrayP = [0]\n",
    "NewArray=[]\n",
    "ArrayP += list(Func.keys())\n",
    "for x in range(0, 1000):\n",
    "    num = random.random()\n",
    "    for i in range(0, len(ArrayP)-1):\n",
    "        if(ArrayP[i] <= num < ArrayP[i+1]):\n",
    "            #rint(ArrayP[i+1])\n",
    "            NewArray.append(ArrayP[i+1])\n",
    "            #rint(ArrayP[i+1])\n",
    "\n",
    "#for m in NewArray:\n",
    "#    print(m)\n",
    "plt.grid(axis='y', alpha=0.75)\n",
    "plt.xlabel('Probabilidad de eventos')\n",
    "plt.ylabel('Conteo de Eventos')\n",
    "plt.title('Inciso 1')\n",
    "plt.hist(NewArray, color='#2BB218')"
   ]
  },
  {
   "cell_type": "markdown",
   "metadata": {},
   "source": [
    "# Inciso 3: Valor presente neto\n",
    "\n",
    "Realice tres simulaciones para determinar cuál de los proyectos es el más rentable. Utilice 100, 1000 y 10000 iteraciones."
   ]
  },
  {
   "cell_type": "code",
   "execution_count": 68,
   "metadata": {},
   "outputs": [],
   "source": [
    "#import numpy_financial as npf\n",
    "\n",
    "#TABLA 1: PROYECTO HOTEL\n",
    "cero = -800\n",
    "one = np.random.randint(low=-800, high=50,size=1)\n",
    "two = np.random.randint(low=-800, high=100,size=1)\n",
    "three = np.random.randint(low=-700, high=150,size=1)\n",
    "four = np.random.randint(low=200, high=300,size=1)\n",
    "five = np.random.randint(low=200, high=400,size=1)\n",
    "six = np.random.randint(low=200, high=500,size=1)\n",
    "seven = np.random.randint(low=200, high=8440,size=1)\n",
    "\n",
    "#TABLA 2: PROYECTO HOTEL\n",
    "cero_ = -900\n",
    "one_ = np.random.randint(low=-600, high=50,size=1)\n",
    "two_ = np.random.randint(low=-200, high=50,size=1)\n",
    "three_ = np.random.randint(low=-600, high=100,size=1)\n",
    "four_ = np.random.randint(low=150, high=250,size=1)\n",
    "five_ = np.random.randint(low=150, high=350,size=1)\n",
    "six_ = np.random.randint(low=150, high=400,size=1)\n",
    "seven_ = np.random.randint(low=1600, high=6000,size=1)\n",
    "\n",
    "def p_hotel(n):\n",
    "    res = 1\n",
    "    arr1 = np.empty([])\n",
    "    for i in range(1, n):\n",
    "        cero = -800\n",
    "        one = np.random.randint(low=-800, high=50,size=1)\n",
    "        two = np.random.randint(low=-800, high=100,size=1)\n",
    "        three = np.random.randint(low=-700, high=150,size=1)\n",
    "        four = np.random.randint(low=200, high=300,size=1)\n",
    "        five = np.random.randint(low=200, high=400,size=1)\n",
    "        six = np.random.randint(low=200, high=500,size=1)\n",
    "        seven = np.random.randint(low=200, high=8440,size=1)\n",
    "\n",
    "        # Calculando el valor presente neto.\n",
    "        NPV = np.npv(rate=.10, values=[cero, one[0], two[0], three[0],four[0],five[0],six[0],seven[0]])\n",
    "        NPV\n",
    "        arr1 = np.append(arr1, NPV)\n",
    "    return arr1\n",
    "\n",
    "def p_centro(n):\n",
    "    res = 1\n",
    "    arr = np.empty([])\n",
    "    for i in range(1, n):\n",
    "        cero_ = -900\n",
    "        one_ = np.random.randint(low=-600, high=50,size=1)\n",
    "        two_ = np.random.randint(low=-200, high=50,size=1)\n",
    "        three_ = np.random.randint(low=-600, high=100,size=1)\n",
    "        four_ = np.random.randint(low=150, high=250,size=1)\n",
    "        five_ = np.random.randint(low=150, high=350,size=1)\n",
    "        six_ = np.random.randint(low=150, high=400,size=1)\n",
    "        seven_ = np.random.randint(low=1600, high=6000,size=1)\n",
    "\n",
    "        # Calculando el valor presente neto.\n",
    "        NPV_ = np.npv(rate=.10, values=[cero_, one_[0], two_[0], three_[0],four_[0],five_[0],six_[0],seven_[0]])\n",
    "        NPV_\n",
    "        arr = np.append(arr, NPV_)\n",
    "    return arr"
   ]
  },
  {
   "cell_type": "markdown",
   "metadata": {},
   "source": [
    "## Proyectos con 100 iteraciones"
   ]
  },
  {
   "cell_type": "code",
   "execution_count": 71,
   "metadata": {},
   "outputs": [
    {
     "name": "stderr",
     "output_type": "stream",
     "text": [
      "<ipython-input-69-ad52abb27657>:15: DeprecationWarning: numpy.npv is deprecated and will be removed from NumPy 1.20. Use numpy_financial.npv instead (https://pypi.org/project/numpy-financial/).\n",
      "  NPV = np.npv(rate=.10, values=[cero, one[0], two[0], three[0],four[0],five[0],six[0],seven[0]])\n"
     ]
    },
    {
     "data": {
      "image/png": "[encoded data removed]",
      "text/plain": [
       "<Figure size 432x288 with 1 Axes>"
      ]
     },
     "metadata": {},
     "output_type": "display_data"
    },
    {
     "data": {
      "image/png": "[encoded data removed]",
      "text/plain": [
       "<Figure size 432x288 with 1 Axes>"
      ]
     },
     "metadata": {},
     "output_type": "display_data"
    }
   ],
   "source": [
    "#Proyecto hotel\n",
    "arr1 = p_hotel(100)\n",
    "arr1 = np.delete(arr1, 0)\n",
    "fig = plt.figure(figsize =(6, 4))\n",
    "plt.title(\"proyecto hotel 100 iteraciones\")\n",
    "plt.hist(arr1, bins=30,range=(0,2500))\n",
    "plt.ylabel('Probability');\n",
    "#Proyecto hotel\n",
    "arr2 = p_centro(100)\n",
    "arr2 = np.delete(arr2, 0)\n",
    "fig = plt.figure(figsize =(6, 4))\n",
    "plt.title(\"proyecto centro comercial 100 iteraciones\")\n",
    "plt.hist(arr2, bins=30,range=(0,2500))\n",
    "plt.ylabel('Probability');"
   ]
  },
  {
   "cell_type": "markdown",
   "metadata": {},
   "source": [
    "### Medidas de tendencia central"
   ]
  },
  {
   "cell_type": "code",
   "execution_count": 72,
   "metadata": {},
   "outputs": [
    {
     "name": "stdout",
     "output_type": "stream",
     "text": [
      "PROYECTO HOTEL\n",
      "Media: 1121.0802629373875 Desviacion estandar: 1353.5582608586963\n",
      "PROYECTO CENTRO COMERCIAL\n",
      "Media: 995.9706822327645 Desviacion estandar: 728.0968430928737\n"
     ]
    }
   ],
   "source": [
    "print('PROYECTO HOTEL')\n",
    "print('Media: '+ str(arr1.mean()) + ' Desviacion estandar: '+str(arr1.std()) )\n",
    "print('PROYECTO CENTRO COMERCIAL')\n",
    "print('Media: '+ str(arr2.mean()) + ' Desviacion estandar: '+str(arr2.std()) )"
   ]
  },
  {
   "cell_type": "markdown",
   "metadata": {},
   "source": [
    "## Proyectos con 1,000 iteraciones"
   ]
  },
  {
   "cell_type": "code",
   "execution_count": 73,
   "metadata": {},
   "outputs": [
    {
     "name": "stderr",
     "output_type": "stream",
     "text": [
      "<ipython-input-69-ad52abb27657>:15: DeprecationWarning: numpy.npv is deprecated and will be removed from NumPy 1.20. Use numpy_financial.npv instead (https://pypi.org/project/numpy-financial/).\n",
      "  NPV = np.npv(rate=.10, values=[cero, one[0], two[0], three[0],four[0],five[0],six[0],seven[0]])\n"
     ]
    },
    {
     "data": {
      "image/png": "[encoded data removed]",
      "text/plain": [
       "<Figure size 432x288 with 1 Axes>"
      ]
     },
     "metadata": {},
     "output_type": "display_data"
    },
    {
     "data": {
      "image/png": "[encoded data removed]",
      "text/plain": [
       "<Figure size 432x288 with 1 Axes>"
      ]
     },
     "metadata": {},
     "output_type": "display_data"
    }
   ],
   "source": [
    "#Proyecto hotel 1000 iteraciones\n",
    "arr1 = p_hotel(1000)\n",
    "arr1 = np.delete(arr1, 0)\n",
    "fig = plt.figure(figsize =(6, 4))\n",
    "plt.title(\"proyecto hotel 100 iteraciones\")\n",
    "plt.hist(arr1, bins=30,range=(0,2500))\n",
    "plt.ylabel('Probability');\n",
    "#Proyecto centro comercial 1000 iteraciones\n",
    "arr2 = p_centro(1000)\n",
    "arr2 = np.delete(arr2, 0)\n",
    "fig = plt.figure(figsize =(6, 4))\n",
    "plt.title(\"proyecto centro comercial 100 iteraciones\")\n",
    "plt.hist(arr2, bins=30,range=(0,2500))\n",
    "plt.ylabel('Probability');"
   ]
  },
  {
   "cell_type": "markdown",
   "metadata": {},
   "source": [
    "### Medidas de tendencia central"
   ]
  },
  {
   "cell_type": "code",
   "execution_count": 74,
   "metadata": {},
   "outputs": [
    {
     "name": "stdout",
     "output_type": "stream",
     "text": [
      "PROYECTO HOTEL\n",
      "Media: 1067.906637738316 Desviacion estandar: 1284.274193873107\n",
      "PROYECTO CENTRO COMERCIAL\n",
      "Media: 1000.8005854526339 Desviacion estandar: 686.8248591404869\n"
     ]
    }
   ],
   "source": [
    "print('PROYECTO HOTEL')\n",
    "print('Media: '+ str(arr1.mean()) + ' Desviacion estandar: '+str(arr1.std()) )\n",
    "print('PROYECTO CENTRO COMERCIAL')\n",
    "print('Media: '+ str(arr2.mean()) + ' Desviacion estandar: '+str(arr2.std()) )"
   ]
  },
  {
   "cell_type": "markdown",
   "metadata": {},
   "source": [
    "## Proyectos con 10,000 iteraciones"
   ]
  },
  {
   "cell_type": "code",
   "execution_count": 75,
   "metadata": {},
   "outputs": [
    {
     "name": "stderr",
     "output_type": "stream",
     "text": [
      "<ipython-input-69-ad52abb27657>:15: DeprecationWarning: numpy.npv is deprecated and will be removed from NumPy 1.20. Use numpy_financial.npv instead (https://pypi.org/project/numpy-financial/).\n",
      "  NPV = np.npv(rate=.10, values=[cero, one[0], two[0], three[0],four[0],five[0],six[0],seven[0]])\n"
     ]
    },
    {
     "data": {
      "image/png": "[encoded data removed]",
      "text/plain": [
       "<Figure size 432x288 with 1 Axes>"
      ]
     },
     "metadata": {},
     "output_type": "display_data"
    },
    {
     "data": {
      "image/png": "[encoded data removed]",
      "text/plain": [
       "<Figure size 432x288 with 1 Axes>"
      ]
     },
     "metadata": {},
     "output_type": "display_data"
    }
   ],
   "source": [
    "#Proyecto hotel 10000 iteraciones\n",
    "arr1 = p_hotel(10000)\n",
    "arr1 = np.delete(arr1, 0)\n",
    "fig = plt.figure(figsize =(6, 4))\n",
    "plt.title(\"proyecto hotel 100 iteraciones\")\n",
    "plt.hist(arr1, bins=30,range=(0,2500))\n",
    "plt.ylabel('Probability');\n",
    "#Proyecto centro comercial 10000 iteraciones\n",
    "arr2 = p_centro(10000)\n",
    "arr2 = np.delete(arr2, 0)\n",
    "fig = plt.figure(figsize =(6, 4))\n",
    "plt.title(\"proyecto centro comercial 100 iteraciones\")\n",
    "plt.hist(arr2, bins=30,range=(0,2500))\n",
    "plt.ylabel('Probability');"
   ]
  },
  {
   "cell_type": "markdown",
   "metadata": {},
   "source": [
    "### Medidas de tendencia central"
   ]
  },
  {
   "cell_type": "code",
   "execution_count": 76,
   "metadata": {},
   "outputs": [
    {
     "name": "stdout",
     "output_type": "stream",
     "text": [
      "PROYECTO HOTEL\n",
      "Media: 1128.238534386177 Desviacion estandar: 1269.3453677911427\n",
      "PROYECTO CENTRO COMERCIAL\n",
      "Media: 992.6439324068264 Desviacion estandar: 698.7020729144325\n"
     ]
    }
   ],
   "source": [
    "print('PROYECTO HOTEL')\n",
    "print('Media: '+ str(arr1.mean()) + ' Desviacion estandar: '+str(arr1.std()) )\n",
    "print('PROYECTO CENTRO COMERCIAL')\n",
    "print('Media: '+ str(arr2.mean()) + ' Desviacion estandar: '+str(arr2.std()) )"
   ]
  },
  {
   "cell_type": "markdown",
   "metadata": {},
   "source": [
    "### Conclusiones\n",
    "1. Ambos proyectos, hotel y centro comercial, presentan valores similares en el valor presente neto, sin emabargo al aumentar las iteraciones el proyecto del hotel presenta mejor uniformidad.\n",
    "2. El proyecto del hotel presenta una desviacion estandar mayor que la desl proyecto del centro comercial.\n",
    "3. El proyecto del centro comercial es mas rentable."
   ]
  },
  {
   "cell_type": "markdown",
   "metadata": {},
   "source": [
    "# Inciso 4: Repartidor de periodicos\n",
    "\n",
    "Usted es un voceador que quiere saber si le conviene más comprar diariamente 9, 10 u 11 periódicos. Además, sabe que el 30% de los días le piden 9, el 40% de los días le piden 10 y el 30% de los días le piden 11. Si usted compra los periódicos para luego venderlos, y paga 1.50 dolares por periódico, lo vende a 2.50, y por cada periódico no vendido se le reembolsa $0.50, ¿cuál es la cantidad que más le conviene comprar todos los días? Simule para un mes, un año y diez años. "
   ]
  },
  {
   "cell_type": "code",
   "execution_count": null,
   "metadata": {},
   "outputs": [],
   "source": []
  }
 ],
 "metadata": {
  "kernelspec": {
   "display_name": "Python 3",
   "language": "python",
   "name": "python3"
  },
  "language_info": {
   "codemirror_mode": {
    "name": "ipython",
    "version": 3
   },
   "file_extension": ".py",
   "mimetype": "text/x-python",
   "name": "python",
   "nbconvert_exporter": "python",
   "pygments_lexer": "ipython3",
   "version": "3.8.5"
  }
 },
 "nbformat": 4,
 "nbformat_minor": 4
}
